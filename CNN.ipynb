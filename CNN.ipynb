{
 "cells": [
  {
   "cell_type": "code",
   "execution_count": null,
   "id": "88cd5cf2",
   "metadata": {},
   "outputs": [],
   "source": [
    "import os\n",
    "import tarfile\n",
    "import urllib.request\n",
    "import keras\n",
    "import matplotlib.pyplot as plt\n",
    "import numpy as np\n",
    "import tensorflow as tf\n",
    "import yolov5\n",
    "from keras.applications.vgg19 import preprocess_input, VGG19\n",
    "from keras.layers import Dense, GlobalAveragePooling2D\n",
    "from keras.models import Model\n",
    "from scipy.io import loadmat\n",
    "from sklearn.model_selection import train_test_split\n",
    "import torch\n",
    "from PIL import Image\n",
    "import cv2\n",
    "import urllib.request\n",
    "import scipy.io\n",
    "import matplotlib.pyplot as plt\n",
    "%matplotlib inline\n",
    "from tensorflow.keras.callbacks import Callback\n"
   ]
  },
  {
   "cell_type": "code",
   "execution_count": 2,
   "id": "9f03d4f1",
   "metadata": {},
   "outputs": [],
   "source": [
    "# Step 1: Download and extract the image dataset\n",
    "dataset_url = 'https://www.robots.ox.ac.uk/~vgg/data/flowers/102/102flowers.tgz'\n",
    "labels_url = 'https://www.robots.ox.ac.uk/~vgg/data/flowers/102/imagelabels.mat'\n",
    "data_dir = '/home/roi/Untitled_Folder/path/to/flower_dataset'\n",
    "# Download and extract the dataset\n",
    "if not os.path.exists(data_dir):\n",
    "    os.makedirs(data_dir)\n",
    "    urllib.request.urlretrieve(dataset_url, os.path.join(data_dir, '102flowers.tgz'))\n",
    "    urllib.request.urlretrieve(labels_url, os.path.join(data_dir, 'imagelabels.mat'))\n",
    "    tar = tarfile.open(os.path.join(data_dir, '102flowers.tgz'), 'r:gz')\n",
    "    tar.extractall(data_dir)\n",
    "    tar.close()\n",
    "    print(\"Dataset downloaded and extracted successfully.\")"
   ]
  },
  {
   "cell_type": "code",
   "execution_count": 3,
   "id": "3ad70d1c",
   "metadata": {},
   "outputs": [],
   "source": [
    "# Step 2: Preprocessing\n",
    "image_size = (224, 224)  # Resize images to (224, 224) for VGG19 and MobileNetV2\n",
    "\n",
    "# Load image labels from .mat file\n",
    "labels = loadmat(os.path.join(data_dir, 'imagelabels.mat'))\n",
    "labels = labels['labels'][0]\n"
   ]
  },
  {
   "cell_type": "code",
   "execution_count": 4,
   "id": "e66f2d59",
   "metadata": {},
   "outputs": [],
   "source": [
    "# Split the dataset into training, validation, and test sets\n",
    "X_train_val_index, X_test_index, y_train_val_index, y_test_index = train_test_split(np.arange(len(labels)), labels, test_size=0.25, random_state=42)\n",
    "X_train_index, X_val_index, y_train_index, y_val_index = train_test_split(X_train_val_index, y_train_val_index, test_size=0.33, random_state=42)"
   ]
  },
  {
   "cell_type": "code",
   "execution_count": 5,
   "id": "dd53b823",
   "metadata": {},
   "outputs": [],
   "source": [
    "# Define image preprocessing function\n",
    "def preprocess_image(img_path):\n",
    "    img = tf.keras.preprocessing.image.load_img(img_path, target_size=(224, 224))\n",
    "    img = tf.keras.preprocessing.image.img_to_array(img)\n",
    "    img = preprocess_input(img)\n",
    "    return img"
   ]
  },
  {
   "cell_type": "code",
   "execution_count": 6,
   "id": "afac733f",
   "metadata": {},
   "outputs": [
    {
     "data": {
      "text/plain": [
       "102"
      ]
     },
     "execution_count": 6,
     "metadata": {},
     "output_type": "execute_result"
    }
   ],
   "source": [
    "num_classes = len(np.unique(labels))\n",
    "num_classes"
   ]
  },
  {
   "cell_type": "code",
   "execution_count": 7,
   "id": "7bb14f76",
   "metadata": {},
   "outputs": [],
   "source": [
    "# Preprocess training images\n",
    "X_train = np.array([preprocess_image(data_dir + \"/jpg/image_\" + str(i + 1).zfill(5) + \".jpg\") for i in X_train_index])\n",
    "y_train = keras.utils.to_categorical(y_train_index - 1, num_classes=num_classes)\n",
    "\n",
    "# Preprocess validation images\n",
    "X_val = np.array([preprocess_image(data_dir + \"/jpg/image_\" + str(i + 1).zfill(5) + \".jpg\") for i in X_val_index])\n",
    "y_val = keras.utils.to_categorical(y_val_index - 1, num_classes=num_classes)\n",
    "\n",
    "# Preprocess test images\n",
    "X_test = np.array([preprocess_image(data_dir + \"/jpg/image_\" + str(i + 1).zfill(5) + \".jpg\") for i in X_test_index])\n",
    "y_test = keras.utils.to_categorical(y_test_index - 1, num_classes=num_classes)"
   ]
  },
  {
   "cell_type": "markdown",
   "id": "35cc41cf",
   "metadata": {},
   "source": [
    "## VGG19"
   ]
  },
  {
   "cell_type": "code",
   "execution_count": 8,
   "id": "deb69595",
   "metadata": {},
   "outputs": [],
   "source": [
    "\n",
    "class Callback(Callback):\n",
    "    def __init__(self, test_data):\n",
    "        self.test_data = test_data\n",
    "        self.test_loss = []\n",
    "        self.test_acc = []\n",
    "\n",
    "    def on_epoch_end(self, epoch, logs=None):\n",
    "        x, y = self.test_data\n",
    "        loss, acc = self.model.evaluate(x, y, verbose=0)\n",
    "        self.test_loss.append(loss)\n",
    "        self.test_acc.append(acc)\n",
    "        print(f'\\nVGG19 Testing loss: {loss}, accuracy: {acc}\\n')\n",
    "        \n",
    "test_callback = Callback((X_test, y_test))"
   ]
  },
  {
   "cell_type": "code",
   "execution_count": 9,
   "id": "0c1f33ee",
   "metadata": {},
   "outputs": [
    {
     "name": "stderr",
     "output_type": "stream",
     "text": [
      "2023-06-21 11:54:24.121985: E tensorflow/compiler/xla/stream_executor/cuda/cuda_driver.cc:266] failed call to cuInit: CUDA_ERROR_NO_DEVICE: no CUDA-capable device is detected\n"
     ]
    }
   ],
   "source": [
    "# Load pre-trained VGG19 model without the top classification layer\n",
    "base_model = VGG19(weights=\"imagenet\", include_top=False, input_shape=(224, 224, 3))"
   ]
  },
  {
   "cell_type": "code",
   "execution_count": 10,
   "id": "1ebd4c6e",
   "metadata": {},
   "outputs": [],
   "source": [
    "# Freeze the pre-trained layers\n",
    "for layer in base_model.layers:\n",
    "    layer.trainable = False"
   ]
  },
  {
   "cell_type": "code",
   "execution_count": 11,
   "id": "90feaded",
   "metadata": {},
   "outputs": [],
   "source": [
    "\n",
    "# Add a global average pooling layer and a fully connected layer\n",
    "x = base_model.output\n",
    "x = GlobalAveragePooling2D()(x)\n",
    "x = Dense(1024, activation=\"relu\")(x)"
   ]
  },
  {
   "cell_type": "code",
   "execution_count": 12,
   "id": "97be724a",
   "metadata": {},
   "outputs": [],
   "source": [
    "predictions = Dense(102, activation=\"softmax\")(x)"
   ]
  },
  {
   "cell_type": "code",
   "execution_count": 13,
   "id": "10a0cc7b",
   "metadata": {},
   "outputs": [
    {
     "name": "stdout",
     "output_type": "stream",
     "text": [
      "pid 25121's current affinity mask: ffff\n",
      "pid 25121's new affinity mask: 3\n"
     ]
    },
    {
     "data": {
      "text/plain": [
       "0"
      ]
     },
     "execution_count": 13,
     "metadata": {},
     "output_type": "execute_result"
    }
   ],
   "source": [
    "os.system(\"taskset -p 0x3 {}\".format(os.getpid()))"
   ]
  },
  {
   "cell_type": "code",
   "execution_count": 14,
   "id": "9db71f02",
   "metadata": {},
   "outputs": [
    {
     "name": "stdout",
     "output_type": "stream",
     "text": [
      "Epoch 1/5\n"
     ]
    },
    {
     "name": "stderr",
     "output_type": "stream",
     "text": [
      "2023-06-21 11:54:44.888998: W tensorflow/tsl/framework/cpu_allocator_impl.cc:83] Allocation of 2477088768 exceeds 10% of free system memory.\n"
     ]
    },
    {
     "name": "stdout",
     "output_type": "stream",
     "text": [
      "83/83 [==============================] - ETA: 0s - loss: 2.4338 - accuracy: 0.5321\n",
      "VGG19 Testing loss: 0.9628088474273682, accuracy: 0.75\n",
      "\n",
      "83/83 [==============================] - 1030s 13s/step - loss: 2.4338 - accuracy: 0.5321 - val_loss: 1.0022 - val_accuracy: 0.7356\n",
      "Epoch 2/5\n",
      "83/83 [==============================] - ETA: 0s - loss: 0.3754 - accuracy: 0.9028\n",
      "VGG19 Testing loss: 0.6833605170249939, accuracy: 0.818359375\n",
      "\n",
      "83/83 [==============================] - 999s 12s/step - loss: 0.3754 - accuracy: 0.9028 - val_loss: 0.7584 - val_accuracy: 0.7953\n",
      "Epoch 3/5\n",
      "83/83 [==============================] - ETA: 0s - loss: 0.1494 - accuracy: 0.9643 \n",
      "VGG19 Testing loss: 0.6403761506080627, accuracy: 0.8330078125\n",
      "\n",
      "83/83 [==============================] - 1435s 17s/step - loss: 0.1494 - accuracy: 0.9643 - val_loss: 0.6831 - val_accuracy: 0.8170\n",
      "Epoch 4/5\n",
      "83/83 [==============================] - ETA: 0s - loss: 0.0582 - accuracy: 0.9903\n",
      "VGG19 Testing loss: 0.5652855038642883, accuracy: 0.8525390625\n",
      "\n",
      "83/83 [==============================] - 1162s 14s/step - loss: 0.0582 - accuracy: 0.9903 - val_loss: 0.6370 - val_accuracy: 0.8313\n",
      "Epoch 5/5\n",
      "83/83 [==============================] - ETA: 0s - loss: 0.0291 - accuracy: 0.9981 \n",
      "VGG19 Testing loss: 0.5207539200782776, accuracy: 0.8662109375\n",
      "\n",
      "83/83 [==============================] - 1701s 21s/step - loss: 0.0291 - accuracy: 0.9981 - val_loss: 0.5813 - val_accuracy: 0.8495\n"
     ]
    }
   ],
   "source": [
    "# Create the VGG19 model\n",
    "vgg19_model = Model(inputs=base_model.input, outputs=predictions)\n",
    "\n",
    "# Compile the model\n",
    "vgg19_model.compile(optimizer=\"adam\", loss=\"categorical_crossentropy\", metrics=[\"accuracy\"])\n",
    "\n",
    "vgg19_history = vgg19_model.fit(\n",
    "    X_train,\n",
    "    y_train,\n",
    "    validation_data=(X_val, y_val),\n",
    "    batch_size=50,\n",
    "    epochs=5,\n",
    "    callbacks=[test_callback],\n",
    ")\n"
   ]
  },
  {
   "cell_type": "code",
   "execution_count": 15,
   "id": "7c85e973",
   "metadata": {
    "scrolled": true
   },
   "outputs": [
    {
     "name": "stdout",
     "output_type": "stream",
     "text": [
      "64/64 [==============================] - 270s 4s/step - loss: 0.5208 - accuracy: 0.8662\n",
      "VGG19 Test Accuracy: 0.8662109375\n",
      "VGG19 Test Loss: 0.5207539200782776\n"
     ]
    }
   ],
   "source": [
    "# Evaluate VGG19 model\n",
    "vgg19_scores_loss, vgg19_scores = vgg19_model.evaluate(X_test, y_test)\n",
    "print(\"VGG19 Test Accuracy:\", vgg19_scores)\n",
    "print(\"VGG19 Test Loss:\", vgg19_scores_loss)"
   ]
  },
  {
   "cell_type": "code",
   "execution_count": 16,
   "id": "c98b5b99",
   "metadata": {},
   "outputs": [
    {
     "name": "stdout",
     "output_type": "stream",
     "text": [
      "dict_keys(['loss', 'accuracy', 'val_loss', 'val_accuracy'])\n"
     ]
    }
   ],
   "source": [
    "column_names = vgg19_history.history.keys()\n",
    "print(column_names)"
   ]
  },
  {
   "cell_type": "code",
   "execution_count": 19,
   "id": "c0cd6cf2",
   "metadata": {},
   "outputs": [
    {
     "data": {
      "image/png": "[encoded data removed]",
      "text/plain": [
       "<Figure size 1000x500 with 1 Axes>"
      ]
     },
     "metadata": {},
     "output_type": "display_data"
    }
   ],
   "source": [
    "# Plot accuracy\n",
    "plt.figure(figsize=(10, 5))\n",
    "plt.plot(vgg19_history.history['accuracy'], label='Train')\n",
    "plt.plot(vgg19_history.history['val_accuracy'], label='Validation')\n",
    "plt.plot(test_callback.test_acc, label='Test')\n",
    "\n",
    "plt.title('VGG19 Model Accuracy')\n",
    "plt.xlabel('Epoch')\n",
    "plt.ylabel('Accuracy')\n",
    "plt.legend()\n",
    "plt.show()"
   ]
  },
  {
   "cell_type": "code",
   "execution_count": 20,
   "id": "03b3f07b",
   "metadata": {
    "scrolled": false
   },
   "outputs": [
    {
     "data": {
      "image/png": "[encoded data removed]",
      "text/plain": [
       "<Figure size 1000x500 with 1 Axes>"
      ]
     },
     "metadata": {},
     "output_type": "display_data"
    }
   ],
   "source": [
    "# Plot cross-entropy loss\n",
    "plt.figure(figsize=(10, 5))\n",
    "plt.plot(vgg19_history.history['loss'], label='Train')\n",
    "plt.plot(vgg19_history.history['val_loss'], label='Validation')\n",
    "plt.plot(test_callback.test_loss, label='Test')\n",
    "plt.title('VGG19 Model Cross-Entropy Loss')\n",
    "plt.xlabel('Epoch')\n",
    "plt.ylabel('Loss')\n",
    "plt.legend()\n",
    "plt.show()"
   ]
  },
  {
   "cell_type": "markdown",
   "id": "5301c509",
   "metadata": {},
   "source": [
    "## YOLOv5"
   ]
  },
  {
   "cell_type": "code",
   "execution_count": 22,
   "id": "17172969",
   "metadata": {},
   "outputs": [],
   "source": [
    "import os\n",
    "import requests\n",
    "import tarfile\n",
    "import scipy.io\n",
    "import shutil\n",
    "import numpy as np\n",
    "from sklearn.model_selection import train_test_split\n",
    "\n",
    "# Step 1: Download and extract the image dataset and labels\n",
    "dataset_url = 'https://www.robots.ox.ac.uk/~vgg/data/flowers/102/102flowers.tgz'\n",
    "labels_url = 'https://www.robots.ox.ac.uk/~vgg/data/flowers/102/imagelabels.mat'\n",
    "data_dir = '/home/roi/Untitled_Folder'\n",
    "\n",
    "# Function to download a file from the internet\n",
    "def download_file(url, save_path):\n",
    "    response = requests.get(url, stream=True)\n",
    "    with open(save_path, 'wb') as file:\n",
    "        for chunk in response.iter_content(chunk_size=8192):\n",
    "            file.write(chunk)\n",
    "\n",
    "# Download the image dataset and labels\n",
    "download_file(dataset_url, os.path.join(data_dir, '102flowers.tgz'))\n",
    "download_file(labels_url, os.path.join(data_dir, 'imagelabels.mat'))\n",
    "\n",
    "# Extract the image dataset\n",
    "with tarfile.open(os.path.join(data_dir, '102flowers.tgz'), 'r:gz') as tar:\n",
    "    tar.extractall(path=data_dir)\n",
    "\n",
    "# Load the labels\n",
    "labels = scipy.io.loadmat(os.path.join(data_dir, 'imagelabels.mat'))['labels'][0]\n",
    "\n",
    "# Split the dataset into training, validation, and testing sets\n",
    "train_images, test_images, train_labels, test_labels = train_test_split(\n",
    "    os.listdir(os.path.join(data_dir, 'jpg')), labels, test_size=0.2, random_state=42)\n",
    "train_images, val_images, train_labels, val_labels = train_test_split(\n",
    "    train_images, train_labels, test_size=0.25, random_state=42)  # 0.25 x 0.8 = 0.2\n",
    "\n",
    "# Create the output directories\n",
    "output_dir = '/home/roi/Untitled_Folder/datasets/flower_dataset'\n",
    "os.makedirs(os.path.join(output_dir, 'train', 'images'), exist_ok=True)\n",
    "os.makedirs(os.path.join(output_dir, 'train', 'labels'), exist_ok=True)\n",
    "os.makedirs(os.path.join(output_dir, 'val', 'images'), exist_ok=True)\n",
    "os.makedirs(os.path.join(output_dir, 'val', 'labels'), exist_ok=True)\n",
    "os.makedirs(os.path.join(output_dir, 'test', 'images'), exist_ok=True)\n",
    "os.makedirs(os.path.join(output_dir, 'test', 'labels'), exist_ok=True)\n"
   ]
  },
  {
   "cell_type": "code",
   "execution_count": 23,
   "id": "cb487877",
   "metadata": {},
   "outputs": [],
   "source": [
    "from PIL import Image\n",
    "\n",
    "# Function to move files and save labels\n",
    "def move_files_and_save_labels(images, labels, split, output_dir):\n",
    "    for image, label in zip(images, labels):\n",
    "        # Move the image\n",
    "        dest_path = os.path.join(output_dir, split, 'images', image)\n",
    "        shutil.move(os.path.join(data_dir, 'jpg', image), dest_path)\n",
    "        \n",
    "        # Open the image and get its size\n",
    "        with Image.open(dest_path) as img:\n",
    "            img_width, img_height = img.size\n",
    "        \n",
    "        # Calculate the center, width and height\n",
    "        x_center = img_width / 2.0\n",
    "        y_center = img_height / 2.0\n",
    "        width = img_width\n",
    "        height = img_height\n",
    "\n",
    "        # Normalize the center, width and height values\n",
    "        x_center /= img_width\n",
    "        y_center /= img_height\n",
    "        width /= img_width\n",
    "        height /= img_height\n",
    "        \n",
    "        # Save the label and coordinates\n",
    "        with open(os.path.join(output_dir, split, 'labels', image.replace('.jpg', '.txt')), 'w') as f:\n",
    "            f.write(f\"{label} {x_center} {y_center} {width} {height}\")"
   ]
  },
  {
   "cell_type": "code",
   "execution_count": 24,
   "id": "a2634f4b",
   "metadata": {},
   "outputs": [],
   "source": [
    "# Move the images and save the labels\n",
    "move_files_and_save_labels(train_images, train_labels, 'train', output_dir)\n",
    "move_files_and_save_labels(val_images, val_labels, 'val', output_dir)\n",
    "move_files_and_save_labels(test_images, test_labels, 'test', output_dir)\n"
   ]
  },
  {
   "cell_type": "code",
   "execution_count": 33,
   "id": "b207f1dd",
   "metadata": {},
   "outputs": [
    {
     "name": "stdout",
     "output_type": "stream",
     "text": [
      "Created data.yaml file\n"
     ]
    }
   ],
   "source": [
    "import os\n",
    "import numpy as np\n",
    "import yaml\n",
    "\n",
    "# Paths to train, val, and test image folders\n",
    "train_folder = '/home/roi/Untitled_Folder/datasets/flower_dataset/train/images'\n",
    "val_folder = '/home/roi/Untitled_Folder/datasets/flower_dataset/val/images'\n",
    "test_folder = '/home/roi/Untitled_Folder/datasets/flower_dataset/test/images'\n",
    "\n",
    "# Get unique class labels\n",
    "unique_labels = np.unique(train_labels)\n",
    "\n",
    "# Convert numpy scalar to regular Python scalar\n",
    "def numpy_scalar_representer(dumper, data):\n",
    "    return dumper.represent_scalar(u'tag:yaml.org,2002:float', str(data))\n",
    "\n",
    "# Register the numpy scalar representer\n",
    "yaml.add_representer(np.float32, numpy_scalar_representer)\n",
    "\n",
    "# Create classes dictionary\n",
    "classes = {idx: label.item() for idx, label in enumerate(unique_labels)}\n",
    "classes[102] = 103\n",
    "# Create data dictionary\n",
    "data = {\n",
    "    'path': '../datasets/flower_dataset',\n",
    "    'train': train_folder,\n",
    "    'val': val_folder,\n",
    "    'test': test_folder,\n",
    "    'names': classes\n",
    "}\n",
    "\n",
    "# Save data dictionary to YAML file\n",
    "yaml_path = '/home/roi/Untitled_Folder/yolov5/data/data.yaml'  # Change the path as needed\n",
    "with open(yaml_path, 'w') as yaml_file:\n",
    "    yaml.dump(data, yaml_file)\n",
    "\n",
    "print(\"Created data.yaml file\")\n"
   ]
  },
  {
   "cell_type": "code",
   "execution_count": 26,
   "id": "04b83f8d",
   "metadata": {
    "scrolled": true
   },
   "outputs": [
    {
     "name": "stdout",
     "output_type": "stream",
     "text": [
      "\u001b[34m\u001b[1mtrain: \u001b[0mweights=yolov5s.pt, cfg=, data=data.yaml, hyp=yolov5/data/hyps/hyp.scratch-low.yaml, epochs=3, batch_size=16, imgsz=640, rect=False, resume=False, nosave=False, noval=False, noautoanchor=False, noplots=False, evolve=None, bucket=, cache=None, image_weights=False, device=, multi_scale=False, single_cls=False, optimizer=SGD, sync_bn=False, workers=8, project=yolov5/runs/train, name=exp, exist_ok=False, quad=False, cos_lr=False, label_smoothing=0.0, patience=100, freeze=[0], save_period=-1, seed=0, local_rank=-1, entity=None, upload_dataset=False, bbox_interval=-1, artifact_alias=latest\n",
      "\u001b[34m\u001b[1mgithub: \u001b[0mup to date with https://github.com/ultralytics/yolov5 ✅\n",
      "YOLOv5 🚀 v7.0-185-g2334aa7 Python-3.10.9 torch-2.0.1+cu117 CPU\n",
      "\n",
      "\u001b[34m\u001b[1mhyperparameters: \u001b[0mlr0=0.01, lrf=0.01, momentum=0.937, weight_decay=0.0005, warmup_epochs=3.0, warmup_momentum=0.8, warmup_bias_lr=0.1, box=0.05, cls=0.5, cls_pw=1.0, obj=1.0, obj_pw=1.0, iou_t=0.2, anchor_t=4.0, fl_gamma=0.0, hsv_h=0.015, hsv_s=0.7, hsv_v=0.4, degrees=0.0, translate=0.1, scale=0.5, shear=0.0, perspective=0.0, flipud=0.0, fliplr=0.5, mosaic=1.0, mixup=0.0, copy_paste=0.0\n",
      "\u001b[34m\u001b[1mComet: \u001b[0mrun 'pip install comet_ml' to automatically track and visualize YOLOv5 🚀 runs in Comet\n",
      "\u001b[34m\u001b[1mTensorBoard: \u001b[0mStart with 'tensorboard --logdir yolov5/runs/train', view at http://localhost:6006/\n",
      "Overriding model.yaml nc=80 with nc=103\n",
      "\n",
      "                 from  n    params  module                                  arguments                     \n",
      "  0                -1  1      3520  models.common.Conv                      [3, 32, 6, 2, 2]              \n",
      "  1                -1  1     18560  models.common.Conv                      [32, 64, 3, 2]                \n",
      "  2                -1  1     18816  models.common.C3                        [64, 64, 1]                   \n",
      "  3                -1  1     73984  models.common.Conv                      [64, 128, 3, 2]               \n",
      "  4                -1  2    115712  models.common.C3                        [128, 128, 2]                 \n",
      "  5                -1  1    295424  models.common.Conv                      [128, 256, 3, 2]              \n",
      "  6                -1  3    625152  models.common.C3                        [256, 256, 3]                 \n",
      "  7                -1  1   1180672  models.common.Conv                      [256, 512, 3, 2]              \n",
      "  8                -1  1   1182720  models.common.C3                        [512, 512, 1]                 \n",
      "  9                -1  1    656896  models.common.SPPF                      [512, 512, 5]                 \n",
      " 10                -1  1    131584  models.common.Conv                      [512, 256, 1, 1]              \n",
      " 11                -1  1         0  torch.nn.modules.upsampling.Upsample    [None, 2, 'nearest']          \n",
      " 12           [-1, 6]  1         0  models.common.Concat                    [1]                           \n",
      " 13                -1  1    361984  models.common.C3                        [512, 256, 1, False]          \n",
      " 14                -1  1     33024  models.common.Conv                      [256, 128, 1, 1]              \n",
      " 15                -1  1         0  torch.nn.modules.upsampling.Upsample    [None, 2, 'nearest']          \n",
      " 16           [-1, 4]  1         0  models.common.Concat                    [1]                           \n",
      " 17                -1  1     90880  models.common.C3                        [256, 128, 1, False]          \n",
      " 18                -1  1    147712  models.common.Conv                      [128, 128, 3, 2]              \n",
      " 19          [-1, 14]  1         0  models.common.Concat                    [1]                           \n",
      " 20                -1  1    296448  models.common.C3                        [256, 256, 1, False]          \n",
      " 21                -1  1    590336  models.common.Conv                      [256, 256, 3, 2]              \n",
      " 22          [-1, 10]  1         0  models.common.Concat                    [1]                           \n",
      " 23                -1  1   1182720  models.common.C3                        [512, 512, 1, False]          \n",
      " 24      [17, 20, 23]  1    291276  models.yolo.Detect                      [103, [[10, 13, 16, 30, 33, 23], [30, 61, 62, 45, 59, 119], [116, 90, 156, 198, 373, 326]], [128, 256, 512]]\n",
      "Model summary: 214 layers, 7297420 parameters, 7297420 gradients, 16.8 GFLOPs\n",
      "\n",
      "Transferred 343/349 items from yolov5s.pt\n",
      "\u001b[34m\u001b[1moptimizer:\u001b[0m SGD(lr=0.01) with parameter groups 57 weight(decay=0.0), 60 weight(decay=0.0005), 60 bias\n",
      "\u001b[34m\u001b[1mtrain: \u001b[0mScanning /home/roi/Untitled_Folder/datasets/flower_dataset/train/labels..\u001b[0m\n",
      "\u001b[34m\u001b[1mtrain: \u001b[0mNew cache created: /home/roi/Untitled_Folder/datasets/flower_dataset/train/labels.cache\n",
      "\u001b[34m\u001b[1mval: \u001b[0mScanning /home/roi/Untitled_Folder/datasets/flower_dataset/val/labels... 16\u001b[0m\n",
      "\u001b[34m\u001b[1mval: \u001b[0mNew cache created: /home/roi/Untitled_Folder/datasets/flower_dataset/val/labels.cache\n",
      "\n",
      "\u001b[34m\u001b[1mAutoAnchor: \u001b[0m1.51 anchors/target, 1.000 Best Possible Recall (BPR). Current anchors are a good fit to dataset ✅\n",
      "Plotting labels to yolov5/runs/train/exp11/labels.jpg... \n",
      "Image sizes 640 train, 640 val\n",
      "Using 8 dataloader workers\n",
      "Logging results to \u001b[1myolov5/runs/train/exp11\u001b[0m\n",
      "Starting training for 3 epochs...\n",
      "\n",
      "      Epoch    GPU_mem   box_loss   obj_loss   cls_loss  Instances       Size\n",
      "        0/2         0G    0.03294    0.01909    0.07247          3        640: 1\n",
      "                 Class     Images  Instances          P          R      mAP50   \n",
      "                   all       1638       1638    0.00946      0.992     0.0147     0.0133\n",
      "\n",
      "      Epoch    GPU_mem   box_loss   obj_loss   cls_loss  Instances       Size\n",
      "        1/2         0G    0.01713   0.009608    0.07137          2        640: 1\n",
      "                 Class     Images  Instances          P          R      mAP50   \n",
      "                   all       1638       1638    0.00975      0.999     0.0157     0.0154\n",
      "\n",
      "      Epoch    GPU_mem   box_loss   obj_loss   cls_loss  Instances       Size\n",
      "        2/2         0G    0.01204   0.008006    0.07048         54        640:  "
     ]
    },
    {
     "name": "stderr",
     "output_type": "stream",
     "text": [
      "IOStream.flush timed out\n"
     ]
    },
    {
     "name": "stdout",
     "output_type": "stream",
     "text": [
      "        2/2         0G     0.0147    0.00805    0.07296         50        640:  "
     ]
    },
    {
     "name": "stderr",
     "output_type": "stream",
     "text": [
      "IOStream.flush timed out\n"
     ]
    },
    {
     "name": "stdout",
     "output_type": "stream",
     "text": [
      "        2/2         0G    0.01185   0.007189    0.07108          3        640: 1\n",
      "                 Class     Images  Instances          P          R      mAP50   \n",
      "                   all       1638       1638    0.00978      0.999     0.0161     0.0116\n",
      "\n",
      "3 epochs completed in 1.708 hours.\n",
      "Optimizer stripped from yolov5/runs/train/exp11/weights/last.pt, 14.9MB\n",
      "Optimizer stripped from yolov5/runs/train/exp11/weights/best.pt, 14.9MB\n",
      "\n",
      "Validating yolov5/runs/train/exp11/weights/best.pt...\n",
      "Fusing layers... \n",
      "Model summary: 157 layers, 7287916 parameters, 0 gradients, 16.6 GFLOPs\n",
      "                 Class     Images  Instances          P          R      mAP50   \n",
      "                   all       1638       1638    0.00975      0.999     0.0157     0.0154\n",
      "                     2       1638          5    0.00305          1    0.00433    0.00433\n",
      "                     3       1638          9    0.00548          1    0.00698    0.00686\n",
      "                     4       1638         10    0.00609          1    0.00848    0.00848\n",
      "                     5       1638         13    0.00791          1     0.0345      0.034\n",
      "                     6       1638         17     0.0103          1     0.0137     0.0137\n",
      "                     7       1638          8    0.00488          1     0.0165     0.0165\n",
      "                     8       1638         10    0.00608          1     0.0195     0.0195\n",
      "                     9       1638         21     0.0127          1     0.0271     0.0271\n",
      "                    10       1638         11     0.0067          1     0.0136     0.0136\n",
      "                    11       1638          8    0.00487          1      0.014      0.014\n",
      "                    12       1638         17     0.0103          1     0.0141     0.0141\n",
      "                    13       1638         17     0.0103          1     0.0106     0.0106\n",
      "                    14       1638         12    0.00731          1     0.0408     0.0408\n",
      "                    15       1638         12    0.00732          1     0.0311     0.0265\n",
      "                    16       1638          7    0.00426          1    0.00541    0.00541\n",
      "                    17       1638          9    0.00547          1    0.00637    0.00601\n",
      "                    18       1638         13    0.00791          1     0.0125     0.0121\n",
      "                    19       1638         15     0.0091          1     0.0152     0.0145\n",
      "                    20       1638          8    0.00486          1    0.00997    0.00997\n",
      "                    21       1638         14    0.00795      0.929     0.0134     0.0126\n",
      "                    22       1638         10    0.00608          1     0.0109     0.0108\n",
      "                    23       1638          8    0.00485          1    0.00593    0.00577\n",
      "                    24       1638         17     0.0103          1     0.0172     0.0172\n",
      "                    25       1638         13    0.00791          1    0.00983    0.00965\n",
      "                    26       1638          6    0.00365          1    0.00571    0.00531\n",
      "                    27       1638          9    0.00547          1     0.0305     0.0305\n",
      "                    28       1638          5    0.00305          1     0.0189     0.0181\n",
      "                    29       1638         13    0.00791          1     0.0136     0.0132\n",
      "                    30       1638         19     0.0116          1     0.0219     0.0214\n",
      "                    31       1638         13    0.00792          1    0.00868    0.00833\n",
      "                    32       1638         12     0.0073          1     0.0203       0.02\n",
      "                    33       1638         12    0.00731          1     0.0116     0.0113\n",
      "                    34       1638         10    0.00609          1    0.00737    0.00642\n",
      "                    35       1638          9    0.00548          1    0.00931    0.00918\n",
      "                    36       1638         11     0.0067          1     0.0201     0.0198\n",
      "                    37       1638         13    0.00789          1     0.0109     0.0106\n",
      "                    38       1638         24     0.0146          1     0.0154      0.015\n",
      "                    39       1638         16     0.0101          1     0.0133     0.0118\n",
      "                    40       1638         11     0.0067          1    0.00714    0.00714\n",
      "                    41       1638          9    0.00547          1    0.00837    0.00791\n",
      "                    42       1638         26     0.0158          1     0.0177     0.0177\n",
      "                    43       1638         11     0.0067          1    0.00788    0.00728\n",
      "                    44       1638         21     0.0127          1     0.0207     0.0207\n",
      "                    45       1638         22     0.0134          1      0.018     0.0179\n",
      "                    46       1638         11     0.0067          1    0.00811    0.00782\n",
      "                    47       1638         43     0.0261          1     0.0302     0.0301\n",
      "                    48       1638         11    0.00669          1    0.00905    0.00887\n",
      "                    49       1638         12    0.00729          1     0.0105     0.0105\n",
      "                    50       1638          5    0.00305          1    0.00492    0.00492\n",
      "                    51       1638         17     0.0103          1      0.013     0.0127\n",
      "                    52       1638         60     0.0363          1     0.0451     0.0451\n",
      "                    53       1638         21     0.0128          1     0.0172     0.0171\n",
      "                    54       1638         16    0.00973          1     0.0125     0.0125\n",
      "                    55       1638         11    0.00672          1    0.00719    0.00631\n",
      "                    56       1638         11    0.00668          1     0.0105     0.0105\n",
      "                    57       1638         23      0.014          1     0.0163     0.0163\n",
      "                    58       1638         14    0.00852          1     0.0145     0.0137\n",
      "                    59       1638         27     0.0164          1     0.0255     0.0255\n",
      "                    60       1638          9    0.00547          1     0.0089    0.00884\n",
      "                    61       1638         25     0.0152          1     0.0176     0.0176\n",
      "                    62       1638         11    0.00669          1    0.00803    0.00791\n",
      "                    63       1638         14    0.00852          1    0.00908    0.00908\n",
      "                    64       1638          8    0.00487          1    0.00988    0.00988\n",
      "                    65       1638         11     0.0067          1    0.00962    0.00934\n",
      "                    66       1638         29     0.0176          1     0.0179     0.0175\n",
      "                    67       1638         11    0.00669          1     0.0075     0.0075\n",
      "                    68       1638          8    0.00487          1     0.0309     0.0309\n",
      "                    69       1638          9    0.00548          1    0.00783    0.00772\n",
      "                    70       1638         14    0.00852          1     0.0151     0.0149\n",
      "                    71       1638          8    0.00487          1    0.00679    0.00679\n",
      "                    72       1638         18     0.0109          1     0.0137     0.0137\n",
      "                    73       1638         17     0.0103          1     0.0171     0.0155\n",
      "                    74       1638         36     0.0218          1     0.0251     0.0249\n",
      "                    75       1638         33       0.02          1     0.0244     0.0227\n",
      "                    76       1638         21     0.0128          1     0.0149     0.0148\n",
      "                    77       1638         27     0.0164          1      0.017     0.0157\n",
      "                    78       1638         39     0.0236          1     0.0278     0.0273\n",
      "                    79       1638         26     0.0158          1     0.0364     0.0364\n",
      "                    80       1638         16    0.00973          1     0.0368     0.0368\n",
      "                    81       1638         22     0.0134          1     0.0152     0.0151\n",
      "                    82       1638         31     0.0188          1     0.0219     0.0218\n",
      "                    83       1638         16    0.00973          1     0.0157     0.0157\n",
      "                    84       1638         28      0.017          1     0.0178     0.0177\n",
      "                    85       1638         14    0.00852          1     0.0122     0.0121\n",
      "                    86       1638         12    0.00728          1    0.00879    0.00849\n",
      "                    87       1638         13    0.00792          1      0.011     0.0108\n",
      "                    88       1638         16    0.00974          1     0.0129     0.0129\n",
      "                    89       1638         28      0.017          1      0.026      0.026\n",
      "                    90       1638         37     0.0224          1     0.0277     0.0275\n",
      "                    91       1638         19     0.0115          1     0.0188     0.0187\n",
      "                    92       1638         15    0.00912          1    0.00999    0.00975\n",
      "                    93       1638         10    0.00608          1    0.00767    0.00767\n",
      "                    94       1638          9     0.0055          1    0.00755    0.00692\n",
      "                    95       1638         26     0.0157          1     0.0263     0.0259\n",
      "                    96       1638         23      0.014          1     0.0215     0.0211\n",
      "                    97       1638         18      0.011          1     0.0421     0.0411\n",
      "                    98       1638         14    0.00852          1     0.0208     0.0186\n",
      "                    99       1638         12    0.00731          1    0.00919    0.00793\n",
      "                   100       1638         16    0.00973          1     0.0123     0.0122\n",
      "                   101       1638         12    0.00729          1     0.0078     0.0078\n",
      "                   102       1638         12     0.0073          1     0.0111     0.0109\n",
      "                   103       1638          7    0.00426          1    0.00537    0.00531\n",
      "Results saved to \u001b[1myolov5/runs/train/exp11\u001b[0m\r\n"
     ]
    }
   ],
   "source": [
    "!python \"/home/roi/Untitled_Folder/yolov5/train.py\" --img 640 --epochs 3 --data data.yaml --weights yolov5s.pt"
   ]
  },
  {
   "cell_type": "code",
   "execution_count": 30,
   "id": "1da97140",
   "metadata": {},
   "outputs": [
    {
     "name": "stdout",
     "output_type": "stream",
     "text": [
      "\u001b[34m\u001b[1mval: \u001b[0mdata=/home/roi/Untitled_Folder/yolov5/data/data.yaml, weights=['/home/roi/Untitled_Folder/yolov5/runs/train/exp11/weights/best.pt'], batch_size=16, imgsz=640, conf_thres=0.001, iou_thres=0.6, max_det=300, task=val, device=, workers=8, single_cls=False, augment=False, verbose=False, save_txt=False, save_hybrid=False, save_conf=False, save_json=False, project=yolov5/runs/val, name=exp, exist_ok=False, half=False, dnn=False\n",
      "YOLOv5 🚀 v7.0-185-g2334aa7 Python-3.10.9 torch-2.0.1+cu117 CPU\n",
      "\n",
      "Fusing layers... \n",
      "Model summary: 157 layers, 7287916 parameters, 0 gradients, 16.6 GFLOPs\n",
      "\u001b[34m\u001b[1mval: \u001b[0mScanning /home/roi/Untitled_Folder/datasets/flower_dataset/val/labels.cache\u001b[0m\n",
      "                 Class     Images  Instances          P          R      mAP50   \n",
      "                   all       1638       1638    0.00976      0.999     0.0159     0.0156\n",
      "Speed: 0.6ms pre-process, 95.4ms inference, 3.0ms NMS per image at shape (16, 3, 640, 640)\n",
      "Results saved to \u001b[1myolov5/runs/val/exp6\u001b[0m\n"
     ]
    }
   ],
   "source": [
    "!python \"/home/roi/Untitled_Folder/yolov5/val.py\" --img 640 --batch 16 --data data.yaml --weights \"/home/roi/Untitled_Folder/yolov5/runs/train/exp11/weights/best.pt\""
   ]
  },
  {
   "cell_type": "code",
   "execution_count": 31,
   "id": "d1b700bc",
   "metadata": {},
   "outputs": [
    {
     "data": {
      "image/png": "[encoded data removed]",
      "text/plain": [
       "<Figure size 1200x600 with 1 Axes>"
      ]
     },
     "metadata": {},
     "output_type": "display_data"
    }
   ],
   "source": [
    "import pandas as pd\n",
    "import matplotlib.pyplot as plt\n",
    "\n",
    "# Load the data from csv\n",
    "data = pd.read_csv('/home/roi/Untitled_Folder/yolov5/runs/train/exp11/results.csv')\n",
    "\n",
    "# Plot the data\n",
    "plt.figure(figsize=(12,6))\n",
    "\n",
    "# Assuming the CSV contains 'precision', 'recall' columns. Modify as needed.\n",
    "plt.plot(data[\"      train/cls_loss\"], label='Train-loss')\n",
    "plt.plot(data[\"        val/cls_loss\"], label='Validation-loss')\n",
    "\n",
    "plt.title('Training Results')\n",
    "plt.xlabel('Epoch')\n",
    "plt.ylabel('Metric Value')\n",
    "plt.legend()\n",
    "\n",
    "plt.show()\n"
   ]
  },
  {
   "cell_type": "code",
   "execution_count": 34,
   "id": "811350de",
   "metadata": {},
   "outputs": [
    {
     "name": "stdout",
     "output_type": "stream",
     "text": [
      "\u001b[34m\u001b[1mval: \u001b[0mdata=/home/roi/Untitled_Folder/yolov5/data/data.yaml, weights=['/home/roi/Untitled_Folder/yolov5/runs/train/exp11/weights/best.pt'], batch_size=16, imgsz=640, conf_thres=0.001, iou_thres=0.6, max_det=300, task=test, device=, workers=8, single_cls=False, augment=False, verbose=False, save_txt=False, save_hybrid=False, save_conf=False, save_json=False, project=yolov5/runs/val, name=exp, exist_ok=False, half=False, dnn=False\n",
      "YOLOv5 🚀 v7.0-185-g2334aa7 Python-3.10.9 torch-2.0.1+cu117 CPU\n",
      "\n",
      "Fusing layers... \n",
      "Model summary: 157 layers, 7287916 parameters, 0 gradients, 16.6 GFLOPs\n",
      "\u001b[34m\u001b[1mtest: \u001b[0mScanning /home/roi/Untitled_Folder/datasets/flower_dataset/test/labels... \u001b[0m\n",
      "\u001b[34m\u001b[1mtest: \u001b[0mNew cache created: /home/roi/Untitled_Folder/datasets/flower_dataset/test/labels.cache\n",
      "                 Class     Images  Instances          P          R      mAP50   \n",
      "                   all       1638       1638    0.00979          1     0.0178     0.0167\n",
      "Speed: 0.6ms pre-process, 81.9ms inference, 2.3ms NMS per image at shape (16, 3, 640, 640)\n",
      "Results saved to \u001b[1myolov5/runs/val/exp7\u001b[0m\n"
     ]
    }
   ],
   "source": [
    "!python \"/home/roi/Untitled_Folder/yolov5/val.py\" --task test --img 640 --batch 16 --data data.yaml --weights \"/home/roi/Untitled_Folder/yolov5/runs/train/exp11/weights/best.pt\""
   ]
  },
  {
   "cell_type": "code",
   "execution_count": 39,
   "id": "497de0c4",
   "metadata": {},
   "outputs": [
    {
     "name": "stdout",
     "output_type": "stream",
     "text": [
      "\u001b[34m\u001b[1mval: \u001b[0mdata=/home/roi/Untitled_Folder/yolov5/data/data.yaml, weights=['/home/roi/Untitled_Folder/yolov5/runs/train/exp11/weights/best.pt'], batch_size=16, imgsz=640, conf_thres=0.001, iou_thres=0.6, max_det=300, task=test, device=, workers=8, single_cls=False, augment=False, verbose=False, save_txt=False, save_hybrid=False, save_conf=True, save_json=False, project=yolov5/runs/val, name=exp, exist_ok=False, half=False, dnn=False\n",
      "YOLOv5 🚀 v7.0-185-g2334aa7 Python-3.10.9 torch-2.0.1+cu117 CPU\n",
      "\n",
      "Fusing layers... \n",
      "Model summary: 157 layers, 7287916 parameters, 0 gradients, 16.6 GFLOPs\n",
      "\u001b[34m\u001b[1mtest: \u001b[0mScanning /home/roi/Untitled_Folder/datasets/flower_dataset/test/labels.cac\u001b[0m\n",
      "                 Class     Images  Instances          P          R      mAP50   \n",
      "                   all       1638       1638    0.00979          1     0.0178     0.0167\n",
      "Speed: 0.6ms pre-process, 79.6ms inference, 2.3ms NMS per image at shape (16, 3, 640, 640)\n",
      "Results saved to \u001b[1myolov5/runs/val/exp8\u001b[0m\n"
     ]
    }
   ],
   "source": [
    "!python \"/home/roi/Untitled_Folder/yolov5/val.py\" --task test  --save-conf --img 640 --batch 16 --data data.yaml --weights \"/home/roi/Untitled_Folder/yolov5/runs/train/exp11/weights/best.pt\""
   ]
  },
  {
   "cell_type": "code",
   "execution_count": null,
   "id": "96a3d011",
   "metadata": {},
   "outputs": [],
   "source": []
  }
 ],
 "metadata": {
  "kernelspec": {
   "display_name": "Python 3 (ipykernel)",
   "language": "python",
   "name": "python3"
  },
  "language_info": {
   "codemirror_mode": {
    "name": "ipython",
    "version": 3
   },
   "file_extension": ".py",
   "mimetype": "text/x-python",
   "name": "python",
   "nbconvert_exporter": "python",
   "pygments_lexer": "ipython3",
   "version": "3.10.9"
  }
 },
 "nbformat": 4,
 "nbformat_minor": 5
}
